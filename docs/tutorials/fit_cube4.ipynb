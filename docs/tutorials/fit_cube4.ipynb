{
 "cells": [
  {
   "cell_type": "markdown",
   "metadata": {},
   "source": [
    "# Fitting Rotation Maps with Non-Keplerian Rotation\n",
    "\n",
    "This notebook deals with dropping the Keplerian rotation assumption and assuming a more flexible power-law profile for the rotational velocity.\n",
    "\n",
    "## Parameterization\n",
    "\n",
    "In previous Notebooks we have assumed that the rotation was purely Keplerian, that is, \n",
    "\n",
    "$$v_0 = v_{\\rm kep} \\sin(i) \\cos(\\phi) + v_{\\rm LSR},$$\n",
    "\n",
    "where\n",
    "\n",
    "$$v_{\\rm kep} = \\sqrt{\\frac{GM_{\\rm star}r^2}{(r^2 + z^2)^{3\\,/\\,2}}}.$$\n",
    "\n",
    "It may be more appropriate to allow some flexibility in the velocity profile. In this notebook we consider a velocity profile given by,\n",
    "\n",
    "$$v_0 = v_{\\phi} \\sin(i) \\cos(\\phi) + v_{\\rm r} \\sin(i) \\sin(\\phi) + v_{\\rm LSR},$$\n",
    "\n",
    "as discussed in [Teague et al. 2019](https://ui.adsabs.harvard.edu/abs/2019Natur.574..378T/abstract). Here, both the rotational velocity, $v_{\\phi}$, and radial velocity, $v_{\\rm r}$, are described by a power law profile,\n",
    "\n",
    "$$v_i(r) = v_{i,\\, 100} \\times \\left( \\frac{r}{100~{\\rm au}} \\right)^{v_{i,\\, q}} \\quad \\text{where} \\quad i = \\{\\phi,\\, r\\}.$$\n",
    "\n",
    "where $"
   ]
  },
  {
   "cell_type": "code",
   "execution_count": null,
   "metadata": {},
   "outputs": [],
   "source": []
  }
 ],
 "metadata": {
  "kernelspec": {
   "display_name": "Python 3",
   "language": "python",
   "name": "python3"
  },
  "language_info": {
   "codemirror_mode": {
    "name": "ipython",
    "version": 3
   },
   "file_extension": ".py",
   "mimetype": "text/x-python",
   "name": "python",
   "nbconvert_exporter": "python",
   "pygments_lexer": "ipython3",
   "version": "3.7.4"
  }
 },
 "nbformat": 4,
 "nbformat_minor": 2
}
