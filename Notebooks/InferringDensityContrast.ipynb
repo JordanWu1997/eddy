{
 "cells": [
  {
   "cell_type": "markdown",
   "metadata": {},
   "source": [
    "# Inferring $\\rho_{\\rm gas}$ Contrast\n",
    "\n",
    "## Outline\n",
    "\n",
    "From the data we are able to measure radial profiles of the height of the emission, $z$, temperature, $T$, and rotation velocity, $v_{\\rm rot}$, all with associated asymmetric errors. We know that the rotation velocity is given by,\n",
    "\n",
    "$$\\frac{v_{\\rm rot}^2}{r} = \\frac{GM_{\\star} r}{(r^2 + z^2)^{3/2}} + \\frac{1}{\\rho_{\\rm gas}} \\frac{\\partial P}{\\partial r}$$\n",
    "\n",
    "where we can assume an ideal gas law for $P = \\rho_{\\rm gas} k T \\, / \\, \\mu m_p$ (here $\\mu = 2.34$ is the mean molecular mass of the gas).\n",
    "\n",
    "As we have the $\\rho_{\\rm gas}^{-1}$ factor in front of the pressure gradient term, we will only be able to calculate a relative density profile. Nonetheless, this is still considerably better than what we can currently do.\n",
    "\n",
    "## Simple Approach\n",
    "\n",
    "I can easily infer a profile for $\\rho_{\\rm gas}$ if we assume no errors on $z$ and $T$ where I model $\\rho_{\\rm gas}$ as simply an array of the same shape as the radial sampling and fit for the rotation velocity, as below."
   ]
  },
  {
   "cell_type": "code",
   "execution_count": 1,
   "metadata": {
    "collapsed": true
   },
   "outputs": [],
   "source": [
    "%matplotlib inline\n",
    "import matplotlib.pyplot as plt\n",
    "from scipy.optimize import minimize\n",
    "import scipy.constants as sc\n",
    "import numpy as np\n",
    "plt.style.use('nature')"
   ]
  },
  {
   "cell_type": "code",
   "execution_count": 2,
   "metadata": {
    "collapsed": false
   },
   "outputs": [],
   "source": [
    "def perturbation(x, x0, dx, A):\n",
    "    \"\"\"Return a Gaussian shaped perturbation.\"\"\"\n",
    "    dip = np.exp(-0.5 * np.power((x - x0) / dx, 2))\n",
    "    return 1. - (1. - A) *dip\n",
    "\n",
    "def calc_vkep(r, z, mstar=2.3):\n",
    "    \"\"\"Return the Keplerian rotation in [m/s].\"\"\"\n",
    "    vkep = sc.G * mstar * 1.988e30 * r * sc.au / np.power(np.hypot(r, z) * sc.au, 3)\n",
    "    return np.sqrt(r * sc.au * vkep)\n",
    "    \n",
    "def calc_vrot(r, z, T, n, mstar=2.3, mu=2.34):\n",
    "    \"\"\"Return the rotation velocity in [m/s].\"\"\"\n",
    "    vkep = sc.G * mstar * 1.988e30 * r * sc.au / np.power(np.hypot(r, z) * sc.au, 3)\n",
    "    vprs = sc.k * np.gradient(n * T, r * sc.au) / n / sc.m_p / mu\n",
    "    vprs = np.where(np.isfinite(vprs), vprs, 0.0)\n",
    "    return np.sqrt(r * sc.au * (vkep + vprs))"
   ]
  },
  {
   "cell_type": "code",
   "execution_count": 3,
   "metadata": {
    "collapsed": false
   },
   "outputs": [
    {
     "data": {
      "text/plain": [
       "<matplotlib.text.Text at 0x107c842d0>"
      ]
     },
     "execution_count": 3,
     "metadata": {},
     "output_type": "execute_result"
    },
    {
     "data": {
      "image/png": "[encoded data removed]",
      "text/plain": [
       "<matplotlib.figure.Figure at 0x107b70fd0>"
      ]
     },
     "metadata": {},
     "output_type": "display_data"
    },
    {
     "data": {
      "image/png": "[encoded data removed]",
      "text/plain": [
       "<matplotlib.figure.Figure at 0x107bcc110>"
      ]
     },
     "metadata": {},
     "output_type": "display_data"
    }
   ],
   "source": [
    "# Generate some fake data.\n",
    "\n",
    "rpnts = np.arange(10, 241, 5)\n",
    "zpnts = 0.1 * rpnts**1.3\n",
    "tpnts = 40. * np.power(rpnts / 100., -0.4)\n",
    "\n",
    "# Model a density profile with Gaussian dips in.\n",
    "\n",
    "npnts = np.ones(rpnts.size)\n",
    "npnts *= perturbation(rpnts, 60., 5., 0.8)\n",
    "npnts *= perturbation(rpnts, 100., 10., 0.5)\n",
    "npnts *= perturbation(rpnts, 160., 20., 0.7)\n",
    "\n",
    "# Plot it.\n",
    "\n",
    "fig, ax = plt.subplots()\n",
    "ax.errorbar(rpnts, npnts, fmt='.')\n",
    "ax.set_ylim(0, 1.2)\n",
    "ax.set_xlabel('Radius (au)')\n",
    "ax.set_ylabel(r'$\\rho \\, / \\, \\rho_0$')\n",
    "\n",
    "# Calculate the rotational velocity.\n",
    "\n",
    "vpnts = calc_vrot(rpnts, zpnts, tpnts, npnts)\n",
    "\n",
    "fig, ax = plt.subplots()\n",
    "ax.plot(rpnts, calc_vkep(rpnts, zpnts) / 1e3, color='lightgray', label='Keplerian')\n",
    "ax.errorbar(rpnts, vpnts / 1e3, fmt='.', label='Observed')\n",
    "ax.set_ylim(0, 10)\n",
    "ax.legend(markerfirst=False)\n",
    "ax.set_xlabel('Radius (au)')\n",
    "ax.set_ylabel(r'$v_{\\rm rot} \\quad ({\\rm km\\,s^{-1}})$')"
   ]
  },
  {
   "cell_type": "code",
   "execution_count": 4,
   "metadata": {
    "collapsed": false
   },
   "outputs": [],
   "source": [
    "def to_minimize(npnts, rpnts, zpnts, tpnts, vpnts, dv):\n",
    "    \"\"\"Function to pass to minimize.\"\"\"\n",
    "    model = calc_vrot(rpnts, zpnts, tpnts, npnts)\n",
    "    return np.nansum(np.power((model - vpnts) / dv, 2))"
   ]
  },
  {
   "cell_type": "code",
   "execution_count": 5,
   "metadata": {
    "collapsed": false
   },
   "outputs": [
    {
     "data": {
      "text/plain": [
       "<matplotlib.text.Text at 0x110793550>"
      ]
     },
     "execution_count": 5,
     "metadata": {},
     "output_type": "execute_result"
    },
    {
     "data": {
      "image/png": "[encoded data removed]",
      "text/plain": [
       "<matplotlib.figure.Figure at 0x107b5dd10>"
      ]
     },
     "metadata": {},
     "output_type": "display_data"
    }
   ],
   "source": [
    "# Use curve_fit to infer the density.\n",
    "x = minimize(to_minimize, np.ones(rpnts.size), args=(rpnts, zpnts, tpnts, vpnts, 5.0))\n",
    "\n",
    "# Plot the results.\n",
    "fig, ax = plt.subplots()\n",
    "ax.errorbar(rpnts, npnts / npnts[0], fmt='.', color='lightgray')\n",
    "ax.plot(rpnts, x.x / x.x[0], label='Best-Fit')\n",
    "ax.set_ylim(0, 1.2)\n",
    "ax.legend(loc=4, markerfirst=False)\n",
    "ax.set_xlabel('Radius (au)')\n",
    "ax.set_ylabel(r'$\\rho \\, / \\, \\rho_0$')"
   ]
  },
  {
   "cell_type": "markdown",
   "metadata": {},
   "source": [
    "## Improvements\n",
    "\n",
    "I want to find a way to do this but also:\n",
    "\n",
    "* Incorporate the uncertainties in the observed values.\n",
    "* Force the density value to be somewhat smooth.\n",
    "\n",
    "For the first point, I think I can achieve this just with a brute force MCMC approach, where each call of the likelihood function samples the range of values for $z$ and $T$. The uncertainty on $v_{\\rm rot}$ just goes into the calculation of the chi-squared or similar.\n",
    "\n",
    "The second point I thought would be were a GP would be useful. From doing the fitting before I know how to use it to model my observable, however I'm not sure how I would implement it such that the values of $\\rho_{\\rm gas}$ are  sampled from some GP. That is, I don't know what the mean would be, unless it is 1? Then, how would one calculate the likelihood function?"
   ]
  },
  {
   "cell_type": "code",
   "execution_count": null,
   "metadata": {
    "collapsed": true
   },
   "outputs": [],
   "source": []
  }
 ],
 "metadata": {
  "anaconda-cloud": {},
  "kernelspec": {
   "display_name": "Python [Root]",
   "language": "python",
   "name": "Python [Root]"
  },
  "language_info": {
   "codemirror_mode": {
    "name": "ipython",
    "version": 2
   },
   "file_extension": ".py",
   "mimetype": "text/x-python",
   "name": "python",
   "nbconvert_exporter": "python",
   "pygments_lexer": "ipython2",
   "version": "2.7.12"
  }
 },
 "nbformat": 4,
 "nbformat_minor": 0
}
